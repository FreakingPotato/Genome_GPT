{
 "cells": [
  {
   "cell_type": "code",
   "execution_count": 1,
   "id": "dba94f4c-9c19-420c-91ac-d0617eed09f1",
   "metadata": {},
   "outputs": [],
   "source": [
    "# make deterministic\n",
    "from mingpt.utils import set_seed\n",
    "set_seed(42)"
   ]
  },
  {
   "cell_type": "code",
   "execution_count": 2,
   "id": "abef30b8-74da-4838-bcf7-8bc6d82d4ed1",
   "metadata": {},
   "outputs": [],
   "source": [
    "import numpy as np\n",
    "import torch\n",
    "import torch.nn as nn\n",
    "from torch.nn import functional as F\n",
    "import math\n",
    "from torch.utils.data import Dataset\n",
    "from mingpt.utils import data_cleaning, CharDataset\n",
    "from mingpt.utils import sample"
   ]
  },
  {
   "cell_type": "code",
   "execution_count": 3,
   "id": "a489c944-76a7-4817-9e38-9088c6e0c985",
   "metadata": {
    "scrolled": true
   },
   "outputs": [],
   "source": [
    "model = torch.load('./saved_model.pth')\n",
    "# print(model)"
   ]
  },
  {
   "cell_type": "code",
   "execution_count": 4,
   "id": "efc3a52c-9fb3-4280-bb51-e969ab23d233",
   "metadata": {},
   "outputs": [
    {
     "name": "stdout",
     "output_type": "stream",
     "text": [
      "=========================================\n",
      "============data cleaning================\n",
      "characters before data cleaning:  {'\\n', 'T', 'G', 'a', 't', 'N', 'g', 'c', 'C', 'A'}\n",
      "characters after data cleaning:  {'T', 'G', 'N', 'C', 'A'}\n",
      "=========================================\n",
      "data has 10280157 characters, 5 unique.\n"
     ]
    }
   ],
   "source": [
    "block_size = 6 # spatial extent of the model for its context\n",
    "text = open('data/hg38.500m.100m.10m.ab', 'r').read() \n",
    "train_dataset = CharDataset(data_cleaning(text), block_size) "
   ]
  },
  {
   "cell_type": "code",
   "execution_count": 5,
   "id": "973e7505-695d-4dc0-a5b2-89333ad983f9",
   "metadata": {
    "scrolled": true
   },
   "outputs": [],
   "source": [
    "from mingpt.trainer import Trainer, TrainerConfig\n",
    "\n",
    "batch_size = 2048 * 4\n",
    "\n",
    "## initialize a trainer instance and kick off training\n",
    "tconf = TrainerConfig(max_epochs=1, batch_size=batch_size, learning_rate=6e-4,\n",
    "                      lr_decay=True, warmup_tokens=512*20, final_tokens=2*len(train_dataset)*block_size,\n",
    "                      num_workers=24)\n",
    "trainer = Trainer(model, train_dataset, None, tconf)"
   ]
  },
  {
   "cell_type": "code",
   "execution_count": 6,
   "id": "ad436715-2329-470d-9080-d6951492663f",
   "metadata": {},
   "outputs": [
    {
     "name": "stdout",
     "output_type": "stream",
     "text": [
      "AAANAAAAAACACACACACAGCATCTGTAGGATTGCTGGTTGTTTCTGTTTGTGAGAAGCAAATAGTGACAATGAGCTTTGAAGGCGGGGGGAAGATTACTGAGCG\n"
     ]
    }
   ],
   "source": [
    "context = \"AAANAA\"\n",
    "x = torch.tensor([train_dataset.stoi[s] for s in context],\n",
    "                  dtype=torch.long)[None,...].to(trainer.device)\n",
    "y = sample(model, x, 100, temperature=1, sample=True, top_k=5)[0]\n",
    "completion = ''.join([train_dataset.itos[int(i)] for i in y])\n",
    "print(completion)"
   ]
  },
  {
   "cell_type": "code",
   "execution_count": null,
   "id": "d4637479-25f8-4ea5-8e73-f860a7ff383a",
   "metadata": {},
   "outputs": [],
   "source": []
  }
 ],
 "metadata": {
  "kernelspec": {
   "display_name": "Python 3 (ipykernel)",
   "language": "python",
   "name": "python3"
  },
  "language_info": {
   "codemirror_mode": {
    "name": "ipython",
    "version": 3
   },
   "file_extension": ".py",
   "mimetype": "text/x-python",
   "name": "python",
   "nbconvert_exporter": "python",
   "pygments_lexer": "ipython3",
   "version": "3.9.16"
  }
 },
 "nbformat": 4,
 "nbformat_minor": 5
}
